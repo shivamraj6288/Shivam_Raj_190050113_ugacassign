{
 "cells": [
  {
   "cell_type": "code",
   "execution_count": 34,
   "metadata": {},
   "outputs": [],
   "source": [
    "import json \n"
   ]
  },
  {
   "cell_type": "code",
   "execution_count": 2,
   "metadata": {},
   "outputs": [],
   "source": [
    "a1=[{\n",
    "    \"name\":\"hjabjh\",\n",
    "    \"roll\":\"3yyy89738\",\n",
    "    \"department\":\"kjwhkj\",\n",
    "    \"hostel\":\"kjhkjw\"\n",
    "},\n",
    "    {\n",
    "    \"name\":\"kjhjb\",\n",
    "    \"roll\":\"3yyy8sedw9738\",\n",
    "    \"department\":\"kererehkj\",\n",
    "    \"hostel\":\"kjwd\"\n",
    "},{\n",
    "    \"name\":\"hjawedwe\",\n",
    "    \"roll\":\"3yyy8wedw8\",\n",
    "    \"department\":\"wedwdwehkj\",\n",
    "    \"hostel\":\"kjhwded\"\n",
    "},{\n",
    "    \"name\":\"hjawdwh\",\n",
    "    \"roll\":\"3yydwdw738\",\n",
    "    \"department\":\"wddjwhkj\",\n",
    "    \"hostel\":\"kjhsxssx\"\n",
    "},{\n",
    "    \"name\":\"hjabwdwd\",\n",
    "    \"roll\":\"3yyy8wddw8\",\n",
    "    \"department\":\"kwsdwhkj\",\n",
    "    \"hostel\":\"kjhkwdsw\"\n",
    "},{\n",
    "    \"name\":\"hjabdwd\",\n",
    "    \"roll\":\"3yyywds38\",\n",
    "    \"department\":\"kwwhkj\",\n",
    "    \"hostel\":\"kj344\"\n",
    "},{\n",
    "    \"name\":\"hjabedc\",\n",
    "    \"roll\":\"3yyy3434338\",\n",
    "    \"department\":\"kddchkj\",\n",
    "    \"hostel\":\"kjhssd\"\n",
    "},{\n",
    "    \"name\":\"hjadcdc\",\n",
    "    \"roll\":\"3yyy5r538\",\n",
    "    \"department\":\"kscdshkj\",\n",
    "    \"hostel\":\"kjhkscdds\"\n",
    "},]"
   ]
  },
  {
   "cell_type": "code",
   "execution_count": 3,
   "metadata": {},
   "outputs": [
    {
     "name": "stdout",
     "output_type": "stream",
     "text": [
      "[{\"name\": \"hjabjh\", \"roll\": \"3yyy89738\", \"department\": \"kjwhkj\", \"hostel\": \"kjhkjw\"}, {\"name\": \"kjhjb\", \"roll\": \"3yyy8sedw9738\", \"department\": \"kererehkj\", \"hostel\": \"kjwd\"}, {\"name\": \"hjawedwe\", \"roll\": \"3yyy8wedw8\", \"department\": \"wedwdwehkj\", \"hostel\": \"kjhwded\"}, {\"name\": \"hjawdwh\", \"roll\": \"3yydwdw738\", \"department\": \"wddjwhkj\", \"hostel\": \"kjhsxssx\"}, {\"name\": \"hjabwdwd\", \"roll\": \"3yyy8wddw8\", \"department\": \"kwsdwhkj\", \"hostel\": \"kjhkwdsw\"}, {\"name\": \"hjabdwd\", \"roll\": \"3yyywds38\", \"department\": \"kwwhkj\", \"hostel\": \"kj344\"}, {\"name\": \"hjabedc\", \"roll\": \"3yyy3434338\", \"department\": \"kddchkj\", \"hostel\": \"kjhssd\"}, {\"name\": \"hjadcdc\", \"roll\": \"3yyy5r538\", \"department\": \"kscdshkj\", \"hostel\": \"kjhkscdds\"}]\n"
     ]
    }
   ],
   "source": [
    "print(json.dumps(a1))"
   ]
  },
  {
   "cell_type": "code",
   "execution_count": 4,
   "metadata": {},
   "outputs": [
    {
     "name": "stdout",
     "output_type": "stream",
     "text": [
      "dataCreation.ipynb  infoManage\t__pycache__  venv\r\n",
      "db.sqlite3\t    manage.py\tstudent\r\n"
     ]
    }
   ],
   "source": [
    "!ls"
   ]
  },
  {
   "cell_type": "code",
   "execution_count": 35,
   "metadata": {},
   "outputs": [],
   "source": [
    "import sqlite3"
   ]
  },
  {
   "cell_type": "code",
   "execution_count": 36,
   "metadata": {},
   "outputs": [],
   "source": [
    "conn=sqlite3.connect('db.sqlite3')\n",
    "cur=conn.cursor()"
   ]
  },
  {
   "cell_type": "code",
   "execution_count": 37,
   "metadata": {},
   "outputs": [],
   "source": [
    "f=open('1data.json')"
   ]
  },
  {
   "cell_type": "code",
   "execution_count": 38,
   "metadata": {},
   "outputs": [],
   "source": [
    "data=json.load(f)"
   ]
  },
  {
   "cell_type": "code",
   "execution_count": 39,
   "metadata": {},
   "outputs": [
    {
     "name": "stdout",
     "output_type": "stream",
     "text": [
      "[{'name': 'hjabjh', 'roll': '123', 'department': 'kjwhkj', 'hostel': 'kjhkjw'}, {'name': 'hjabjh', 'roll': '123', 'department': 'kjwhkj', 'hostel': 'kjhkjw'}]\n"
     ]
    }
   ],
   "source": [
    "print(data)"
   ]
  },
  {
   "cell_type": "code",
   "execution_count": 40,
   "metadata": {},
   "outputs": [],
   "source": [
    "query1='''create table if not exists student_studentdata(\n",
    "    id integer not null primary key,\n",
    "    name text not null,\n",
    "    department text not null,\n",
    "    hostel text not null,\n",
    "    roll text not null);'''\n"
   ]
  },
  {
   "cell_type": "code",
   "execution_count": 41,
   "metadata": {},
   "outputs": [],
   "source": [
    "cur.execute(query1)\n",
    "conn.commit()"
   ]
  },
  {
   "cell_type": "code",
   "execution_count": 42,
   "metadata": {},
   "outputs": [],
   "source": [
    "maxq='select max(id) from student_studentdata'"
   ]
  },
  {
   "cell_type": "code",
   "execution_count": 43,
   "metadata": {},
   "outputs": [
    {
     "data": {
      "text/plain": [
       "<sqlite3.Cursor at 0x7f6feab12570>"
      ]
     },
     "execution_count": 43,
     "metadata": {},
     "output_type": "execute_result"
    }
   ],
   "source": [
    "cur.execute(maxq)"
   ]
  },
  {
   "cell_type": "code",
   "execution_count": 44,
   "metadata": {},
   "outputs": [],
   "source": [
    "maxid=cur.fetchall()"
   ]
  },
  {
   "cell_type": "code",
   "execution_count": 46,
   "metadata": {},
   "outputs": [],
   "source": [
    "if len(maxid)!=0:\n",
    "    maxid=maxid[0][0]\n",
    "else :\n",
    "    maxid=0"
   ]
  },
  {
   "cell_type": "code",
   "execution_count": 47,
   "metadata": {},
   "outputs": [
    {
     "name": "stdout",
     "output_type": "stream",
     "text": [
      "15\n"
     ]
    }
   ],
   "source": [
    "print(maxid)"
   ]
  },
  {
   "cell_type": "code",
   "execution_count": null,
   "metadata": {},
   "outputs": [],
   "source": []
  },
  {
   "cell_type": "code",
   "execution_count": 28,
   "metadata": {},
   "outputs": [
    {
     "data": {
      "text/plain": [
       "<sqlite3.Cursor at 0x7f70005292d0>"
      ]
     },
     "execution_count": 28,
     "metadata": {},
     "output_type": "execute_result"
    }
   ],
   "source": []
  },
  {
   "cell_type": "code",
   "execution_count": 48,
   "metadata": {},
   "outputs": [
    {
     "name": "stdout",
     "output_type": "stream",
     "text": [
      "123 already exists\n",
      "123 already exists\n"
     ]
    }
   ],
   "source": [
    "q2='insert into student_studentdata values(?,?,?,?,?)'\n",
    "\n",
    "for a in data:\n",
    "    maxid=maxid+1\n",
    "#     try:\n",
    "    cur.execute(q2,[maxid,a['name'],a['department'],a['hostel'],a['roll']])\n",
    "    conn.commit()\n",
    "#     except:\n",
    "#         croll=a['roll']\n",
    "#         print(f'{croll} already exists')\n",
    "    \n",
    "    "
   ]
  },
  {
   "cell_type": "code",
   "execution_count": null,
   "metadata": {},
   "outputs": [],
   "source": []
  }
 ],
 "metadata": {
  "kernelspec": {
   "display_name": "Python 3",
   "language": "python",
   "name": "python3"
  },
  "language_info": {
   "codemirror_mode": {
    "name": "ipython",
    "version": 3
   },
   "file_extension": ".py",
   "mimetype": "text/x-python",
   "name": "python",
   "nbconvert_exporter": "python",
   "pygments_lexer": "ipython3",
   "version": "3.8.5"
  }
 },
 "nbformat": 4,
 "nbformat_minor": 1
}
